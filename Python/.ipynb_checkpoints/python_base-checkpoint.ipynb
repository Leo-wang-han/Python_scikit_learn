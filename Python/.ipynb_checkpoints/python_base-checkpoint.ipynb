{
 "cells": [
  {
   "cell_type": "markdown",
   "id": "2ab10b12",
   "metadata": {},
   "source": [
    "### 一、Python基础\n",
    "1.数据类型\n",
    "    数字(number):int、float 和 complex类,isinstance() ;函数用于检查对象是否属于特定的类:isinstance(1+2j,complex)\n",
    "    列表(list):[],列表中的项目允许不是同一类型\n",
    "    元组(tuple):(),与列表(List)相同,唯一的区别是元组内的数据是不可变的\n",
    "    字符串(str):以使用单引号或双引号来表示字符串。可以使用三引号 ''' 或 \"\"\" 来表示多行字符串。\n",
    "    集合(set):唯一项的无序集合,Set 由用大括号 { } 括起来，并由逗号分隔的值的集合。\n",
    "    字典(dict):字典是 键值对 的无序集合，每一项都是形式为 key:value ，键 和 值 可以是任何类型。\n",
    "    数据类型转化：int(),float(),str()"
   ]
  },
  {
   "cell_type": "markdown",
   "id": "e86ccf21",
   "metadata": {},
   "source": [
    "2.输入，输出和导入\n",
    "    输入：\n",
    "        input(),键盘输入全为字符串\n",
    "        eval(),用于执行字符串中的 Python 表达式，并返回表达式的计算结果。会将字符串当作有效的 Python 代码执行，支持数值运算、变量引用、列表 / 字典等表达式。\n",
    "    输出：\n",
    "        print()\n",
    "    导入：\n",
    "        import"
   ]
  },
  {
   "cell_type": "markdown",
   "id": "ad804e06",
   "metadata": {},
   "source": [
    "3.运算符\n",
    "    算术运算符\n",
    "    比较运算符\n",
    "    逻辑运算符 and or not\n",
    "    位运算符\n",
    "    赋值运算符 =\n",
    "    特殊运算符 is   is not\n",
    "    成员运算符 in    not in"
   ]
  },
  {
   "cell_type": "code",
   "execution_count": 14,
   "id": "bc35ddb3",
   "metadata": {},
   "outputs": [
    {
     "name": "stdout",
     "output_type": "stream",
     "text": [
      "['False', 'None', 'True', 'and', 'as', 'assert', 'async', 'await', 'break', 'class', 'continue', 'def', 'del', 'elif', 'else', 'except', 'finally', 'for', 'from', 'global', 'if', 'import', 'in', 'is', 'lambda', 'nonlocal', 'not', 'or', 'pass', 'raise', 'return', 'try', 'while', 'with', 'yield']\n"
     ]
    }
   ],
   "source": [
    "# 4.关键字列表\n",
    "import keyword\n",
    "print(keyword.kwlist)\n",
    "# https://www.cainiaojc.com/python/python-keyword-list.html"
   ]
  },
  {
   "cell_type": "markdown",
   "id": "f9062e0d",
   "metadata": {},
   "source": [
    "### 二、Python流程控制\n",
    "    if...else\n",
    "    for\n",
    "    while\n",
    "    break和continue：\n",
    "        break语句终止包含它的循环。\n",
    "        continue语句仅在当前迭代时用于跳过循环内的其余代码。循环不会终止，但会继续进行下一个迭代。\n",
    "    pass"
   ]
  },
  {
   "cell_type": "markdown",
   "id": "8db1964d",
   "metadata": {},
   "source": [
    "### 三、Python 函数"
   ]
  },
  {
   "cell_type": "code",
   "execution_count": 15,
   "id": "cb741013",
   "metadata": {},
   "outputs": [
    {
     "name": "stdout",
     "output_type": "stream",
     "text": [
      "Hello, Paul. Good morning!\n"
     ]
    }
   ],
   "source": [
    "# 1.函数定义\n",
    "def greet(name):\n",
    "    \"\"\"\n",
    "    这是一个打招呼的函数，\n",
    "    通过name参数传递，\n",
    "    要打招呼的人名\n",
    "    \"\"\"\n",
    "    print(\"Hello, \" + name + \". Good morning!\")\n",
    "\n",
    "greet('Paul')"
   ]
  },
  {
   "cell_type": "markdown",
   "id": "4867791a",
   "metadata": {},
   "source": [
    "2.函数参数\n",
    "    位置参数：def greet(name, msg)\n",
    "    关键字参数：def greet(msg=\"早上好!\")\n",
    "    任意数量参数：\n",
    "        *args:接收任意数量的位置参数\n",
    "        ** kwargs`：接收任意数量的关键字参数"
   ]
  },
  {
   "cell_type": "code",
   "execution_count": 16,
   "id": "b22e8f3d",
   "metadata": {},
   "outputs": [
    {
     "name": "stdout",
     "output_type": "stream",
     "text": [
      "接收的参数: (1, 2, 3)\n",
      "6\n",
      "接收的参数: (10, 20, 30, 40)\n",
      "100\n",
      "接收的参数: {'name': 'Alice', 'age': 30, 'city': 'New York'}\n",
      "name: Alice\n",
      "age: 30\n",
      "city: New York\n"
     ]
    }
   ],
   "source": [
    "def sum_numbers(*args):\n",
    "    print(\"接收的参数:\", args)  # 元组形式\n",
    "    return sum(args)\n",
    "\n",
    "# 调用时可以传入任意数量的位置参数\n",
    "print(sum_numbers(1, 2, 3))  # 输出 6\n",
    "print(sum_numbers(10, 20, 30, 40))  # 输出 100\n",
    "\n",
    "def show_info(** kwargs):\n",
    "    print(\"接收的参数:\", kwargs)  # 字典形式\n",
    "    for key, value in kwargs.items():\n",
    "        print(f\"{key}: {value}\")\n",
    "\n",
    "# 调用时可以传入任意数量的关键字参数\n",
    "show_info(name=\"Alice\", age=30, city=\"New York\")"
   ]
  },
  {
   "cell_type": "markdown",
   "id": "8d9c8adf",
   "metadata": {},
   "source": [
    "3.递归(Recursion):\n",
    "    在Python中，我们知道一个函数可以调用其他函数。函数甚至可能会调用自身。这些类型的构造称为递归函数。"
   ]
  },
  {
   "cell_type": "code",
   "execution_count": 17,
   "id": "e984ca84",
   "metadata": {},
   "outputs": [
    {
     "name": "stdout",
     "output_type": "stream",
     "text": [
      "The factorial of 4 is 24\n"
     ]
    }
   ],
   "source": [
    "def calc_factorial(x):\n",
    "    \"\"\"这是一个\n",
    "    求整数阶乘的递归函数\"\"\"\n",
    "\n",
    "    if x == 1:\n",
    "        return 1\n",
    "    else:\n",
    "        return (x * calc_factorial(x-1))\n",
    "\n",
    "\n",
    "num = 4\n",
    "print(\"The factorial of\", num, \"is\", calc_factorial(num))"
   ]
  },
  {
   "cell_type": "code",
   "execution_count": null,
   "id": "41cfa79b",
   "metadata": {},
   "outputs": [],
   "source": []
  }
 ],
 "metadata": {
  "kernelspec": {
   "display_name": "Python 3 (ipykernel)",
   "language": "python",
   "name": "python3"
  },
  "language_info": {
   "codemirror_mode": {
    "name": "ipython",
    "version": 3
   },
   "file_extension": ".py",
   "mimetype": "text/x-python",
   "name": "python",
   "nbconvert_exporter": "python",
   "pygments_lexer": "ipython3",
   "version": "3.8.13"
  }
 },
 "nbformat": 4,
 "nbformat_minor": 5
}
